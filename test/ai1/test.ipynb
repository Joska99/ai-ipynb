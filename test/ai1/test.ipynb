{
 "cells": [
  {
   "cell_type": "markdown",
   "id": "58dcb47a",
   "metadata": {},
   "source": [
    "First AI try to generate Img."
   ]
  },
  {
   "cell_type": "code",
   "execution_count": null,
   "id": "dc8114a5",
   "metadata": {
    "vscode": {
     "languageId": "plaintext"
    }
   },
   "outputs": [],
   "source": [
    "print(\"Hello World\")"
   ]
  }
 ],
 "metadata": {
  "language_info": {
   "name": "python"
  }
 },
 "nbformat": 4,
 "nbformat_minor": 5
}
